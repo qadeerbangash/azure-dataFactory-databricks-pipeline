{
 "cells": [
  {
   "cell_type": "code",
   "execution_count": null,
   "id": "03fc8d8d-477f-42f8-9d88-a4e87ac36052",
   "metadata": {},
   "outputs": [],
   "source": [
    "from pyspark.sql.functions import col \n",
    "from pyspark.sql.types import IntegerType, DoubleType, BooleanType, DateType"
   ]
  },
  {
   "cell_type": "code",
   "execution_count": null,
   "id": "62af55ea-3b90-4d0d-9f8e-c6e0982e7c42",
   "metadata": {},
   "outputs": [],
   "source": [
    "configs = {\n",
    "    \"fs.azure.account.auth.type\": \"OAuth\", \n",
    "    \"fs.azure.account.oauth.provider.type\": \"org.apache.hadoop.fs.azurebfs.oauth2.ClientCredsTokenProvider\", \n",
    "    \"fs.azure.account.oauth2.client.id\": \"PASTE CLIENT-ID \", \n",
    "    \"fs.azure.account.oauth2.client.secret\": 'PASTE SECERT-ID', \n",
    "    \"fs.azure.account.oauth2.client.endpoint\": \"https://login.microsoftonline.com/PASTE TANENT-ID/oauth2/token\"\n",
    "} \n"
   ]
  },
  {
   "cell_type": "code",
   "execution_count": null,
   "id": "a94830af-7b2b-4127-8c79-b349d1303232",
   "metadata": {},
   "outputs": [],
   "source": [
    "dbutils.fs.mount( \n",
    "source = \"abfss://my-data-container@qadeersa .dfs.core.windows.net\",   # contrainer@storageAccountName \n",
    "mount_point = \"/mnt/azuredatafolder\",\n",
    "    extra_configs = configs)"
   ]
  },
  {
   "cell_type": "code",
   "execution_count": null,
   "id": "875c125b-c338-474b-bdac-3b1839426517",
   "metadata": {},
   "outputs": [],
   "source": [
    "%fs ls \"/mnt/azuredatafolder\""
   ]
  },
  {
   "cell_type": "code",
   "execution_count": null,
   "id": "747d5646-5f00-43d8-a1d9-7ff7e733bb6c",
   "metadata": {},
   "outputs": [],
   "source": [
    "athletes = spark.read.format(\"csv\").option(\"header\",\"true\").option(\"inferSchema\",\"true\").load(\"/mnt/azuredatafolder/raw-data/athletes.csv\")\n",
    "coaches = spark.read.format(\"csv\").option(\"header\",\"true\").option(\"inferSchema\",\"true\").load(\"/mnt/azuredatafolder/raw-data/coaches.csv\")\n",
    "entriesgender = spark.read.format(\"csv\").option(\"header\",\"true\").option(\"inferSchema\",\"true\").load(\"/mnt/azuredatafolder/raw-data/entriesgender.csv\")\n",
    "medals = spark.read.format(\"csv\").option(\"header\",\"true\").option(\"inferSchema\",\"true\").load(\"/mnt/azuredatafolder/raw-data/medals.csv\")\n",
    "teams = spark.read.format(\"csv\").option(\"header\",\"true\").option(\"inferSchema\",\"true\").load(\"/mnt/azuredatafolder/raw-data/teams.csv\")"
   ]
  },
  {
   "cell_type": "code",
   "execution_count": null,
   "id": "2bf29c32-c669-45b3-b59d-c62de219bc57",
   "metadata": {},
   "outputs": [],
   "source": [
    "athletes.show()"
   ]
  },
  {
   "cell_type": "code",
   "execution_count": null,
   "id": "a1d0be1c-2349-4662-ac2a-342c6eb356fb",
   "metadata": {},
   "outputs": [],
   "source": [
    "athletes.printSchema()\n"
   ]
  },
  {
   "cell_type": "code",
   "execution_count": null,
   "id": "f2befc35-08b5-4953-a7f9-d2ea7393f62f",
   "metadata": {},
   "outputs": [],
   "source": [
    "entriesgender.printSchema()\n"
   ]
  },
  {
   "cell_type": "code",
   "execution_count": null,
   "id": "6b24a73a-bdfb-4bbc-8dac-c1a7b41b697f",
   "metadata": {},
   "outputs": [],
   "source": [
    "# entriesgender = entriesgender.withColumn(\"Female\",col(\"Female\").cast(IntegerType()))\\\n",
    "#     .withColumn(\"Male\",col(\"Male\").cast(IntegerType()))\\\n",
    "#     .withColumn(\"Total\",col(\"Total\").cast(IntegerType()))"
   ]
  },
  {
   "cell_type": "code",
   "execution_count": null,
   "id": "3a39d882-777d-4d7a-8b6d-1e814745187c",
   "metadata": {},
   "outputs": [],
   "source": [
    "# Find the top countries with the highest number of gold medals\n",
    "top_gold_medal_countries = medals.orderBy(\"Gold\", ascending=False).select(\"Team_Country\",\"Gold\").show()\n",
    "     "
   ]
  },
  {
   "cell_type": "code",
   "execution_count": null,
   "id": "2bcb8974-09ce-4185-be2f-ac44d40c3542",
   "metadata": {},
   "outputs": [],
   "source": [
    "# Calculate the average number of entries by gender for each discipline\n",
    "average_entries_by_gender = entriesgender.withColumn(\n",
    "    'Avg_Female', entriesgender['Female'] / entriesgender['Total']\n",
    ").withColumn(\n",
    "    'Avg_Male', entriesgender['Male'] / entriesgender['Total']\n",
    ")\n",
    "average_entries_by_gender.show()"
   ]
  },
  {
   "cell_type": "code",
   "execution_count": null,
   "id": "6c5e2a14-aa80-4279-bdd9-342fd815eef4",
   "metadata": {},
   "outputs": [],
   "source": [
    "# Write the data\n",
    "athletes.repartition(1).write.mode(\"overwrite\").option(\"header\",'true').csv(\"/mnt/azuredatafolder/transformed-data/athletes\")\n",
    "coaches.repartition(1).write.mode(\"overwrite\").option(\"header\",\"true\").csv(\"/mnt/azuredatafolder/transformed-data/coaches\")\n",
    "entriesgender.repartition(1).write.mode(\"overwrite\").option(\"header\",\"true\").csv(\"/mnt/azuredatafolder/transformed-data/entriesgender\")\n",
    "medals.repartition(1).write.mode(\"overwrite\").option(\"header\",\"true\").csv(\"/mnt/azuredatafolder/transformed-data/medals\")\n",
    "teams.repartition(1).write.mode(\"overwrite\").option(\"header\",\"true\").csv(\"/mnt/azuredatafolder/transformed-data/teams\")\n",
    "     "
   ]
  },
  {
   "cell_type": "code",
   "execution_count": null,
   "id": "218adb4f-468d-42c5-a7b3-84a324cec9f8",
   "metadata": {},
   "outputs": [],
   "source": []
  },
  {
   "cell_type": "code",
   "execution_count": null,
   "id": "25cd922d-2fac-44a5-adb5-42a0b33dd6b9",
   "metadata": {},
   "outputs": [],
   "source": []
  },
  {
   "cell_type": "code",
   "execution_count": null,
   "id": "c19619e2-f53d-4502-99c1-baf4b9310075",
   "metadata": {},
   "outputs": [],
   "source": []
  }
 ],
 "metadata": {
  "kernelspec": {
   "display_name": "Python 3 (ipykernel)",
   "language": "python",
   "name": "python3"
  },
  "language_info": {
   "codemirror_mode": {
    "name": "ipython",
    "version": 3
   },
   "file_extension": ".py",
   "mimetype": "text/x-python",
   "name": "python",
   "nbconvert_exporter": "python",
   "pygments_lexer": "ipython3",
   "version": "3.10.12"
  }
 },
 "nbformat": 4,
 "nbformat_minor": 5
}
